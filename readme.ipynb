{
 "cells": [
  {
   "attachments": {},
   "cell_type": "markdown",
   "metadata": {},
   "source": [
    "# Optiver's Ready Trader Go Challenge\n",
    "\n",
    "## :open_book: Description \n",
    "\n",
    "This repository contais one possible solution from Optiver's Ready Trader Go challenge. The challenge consists in creating algorithmic trading strategies with a financial asset beetween to markets: \n",
    "\n",
    "* Future market (a very liquid market)\n",
    "* ETF market (an iliquid market)\n",
    "\n",
    "The goal here is to provide liquidity to the iliquid market and at the same time, make profit with your strategy.\n",
    "\n",
    "## :chart_with_upwards_trend: The algorithm\n",
    "\n",
    "The strategy consists of taking advantage of arbitrage opportunities between markets, reducing the spread and providing liquidity to the iliquid market. It places orders everytime it sees arbitrage opportunity and replaces it if the order it placed before is not competitive anymore.\n",
    "\n",
    "We tried other trading strategies using prices signals such as momentum and mean reversion, put it was not as profitable as this one.\n",
    "\n",
    "## :computer: Running the code\n",
    "\n",
    "### :scroll: Requirements \n",
    "\n",
    "* Python 3.11\n",
    "* [PySide6 package](https://pypi.org/project/PySide6/)\n",
    "* One market data file \n",
    "\n",
    "To run the code, after installing the required libraries, clone the git repository:\n",
    "\n",
    "``` bash\n",
    "git clone git@github.com:nicolassinott/Optiver_Ready_Trader_Go.git\n",
    "```\n",
    "\n",
    "Then, navigate to the python folder:\n",
    "\n",
    "``` bash\n",
    "cd pyready_trader_go\n",
    "```\n",
    "\n",
    "Finally, run:\n",
    "\n",
    "```bash\n",
    "python3 rtg.py run [AUTOTRADER FILENAME [AUTOTRADER FILENAME]]\n",
    "```\n",
    "\n",
    "For example:\n",
    "\n",
    "```bash\n",
    "python3 rtg.py run autotrader.py\n",
    "```\n"
   ]
  },
  {
   "cell_type": "markdown",
   "metadata": {},
   "source": []
  }
 ],
 "metadata": {
  "language_info": {
   "name": "python"
  },
  "orig_nbformat": 4
 },
 "nbformat": 4,
 "nbformat_minor": 2
}
