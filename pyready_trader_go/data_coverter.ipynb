{
 "cells": [
  {
   "cell_type": "code",
   "execution_count": 228,
   "metadata": {},
   "outputs": [],
   "source": [
    "import pandas as pd\n",
    "import numpy as np"
   ]
  },
  {
   "cell_type": "code",
   "execution_count": 229,
   "metadata": {},
   "outputs": [],
   "source": [
    "data = pd.read_csv('match194_events.csv')\n",
    "data_ideal = pd.read_csv('market_data1.csv')\n",
    "\n",
    "new_data = data.drop(columns = ['Competitor', 'Fee'])\n",
    "new_data['Price'] = new_data['Price'] / 100"
   ]
  },
  {
   "cell_type": "code",
   "execution_count": 230,
   "metadata": {},
   "outputs": [],
   "source": [
    "data_insert = new_data.loc[new_data['Operation'] == 'Insert'].copy()\n",
    "data_cancel = new_data.loc[new_data['Operation'].isin(['Cancel', 'Amend'])].copy()\n",
    "data_rest = new_data.loc[~new_data['Operation'].isin(['Cancel', 'Insert','Amend'])].copy()"
   ]
  },
  {
   "cell_type": "code",
   "execution_count": 231,
   "metadata": {},
   "outputs": [],
   "source": [
    "god_dict = data_insert.set_index('OrderId').Instrument.to_dict()\n",
    "data_cancel['Instrument'] = data_cancel['OrderId'].map(god_dict)\n",
    "data_total = pd.concat([data_insert,data_cancel,data_rest])\n",
    "data_total = data_total.sort_index()\n",
    "data_print = data_total.reindex(columns=data_ideal.columns)"
   ]
  },
  {
   "cell_type": "code",
   "execution_count": 235,
   "metadata": {},
   "outputs": [],
   "source": [
    "data_print['Instrument'] = data_print['Instrument'].apply(int)\n",
    "data_print['Volume'] = data_print['Volume'].apply(np.float64)"
   ]
  },
  {
   "cell_type": "code",
   "execution_count": 244,
   "metadata": {},
   "outputs": [],
   "source": [
    "data_print = data_print.iloc[(data_print.loc[~data_print['Operation'].isin(['Trade', 'Hedge'])]).index,:]"
   ]
  },
  {
   "cell_type": "code",
   "execution_count": 245,
   "metadata": {},
   "outputs": [],
   "source": [
    "data_print = data_print.set_index('Time')"
   ]
  },
  {
   "cell_type": "code",
   "execution_count": 205,
   "metadata": {},
   "outputs": [],
   "source": [
    "data_print.to_csv('match194_events_treated.csv')"
   ]
  }
 ],
 "metadata": {
  "kernelspec": {
   "display_name": "Python 3",
   "language": "python",
   "name": "python3"
  },
  "language_info": {
   "codemirror_mode": {
    "name": "ipython",
    "version": 3
   },
   "file_extension": ".py",
   "mimetype": "text/x-python",
   "name": "python",
   "nbconvert_exporter": "python",
   "pygments_lexer": "ipython3",
   "version": "3.11.2"
  },
  "orig_nbformat": 4
 },
 "nbformat": 4,
 "nbformat_minor": 2
}
